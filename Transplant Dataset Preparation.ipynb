{
 "cells": [
  {
   "cell_type": "markdown",
   "id": "3057a789",
   "metadata": {},
   "source": [
    "# Data loading "
   ]
  },
  {
   "cell_type": "markdown",
   "id": "2724b4f2",
   "metadata": {},
   "source": [
    "Plan:\n",
    "1. Read in excel of patient IDs, days post transplant, rejection grade (excel file -> pandas)\n",
    "2. Make folders for binary dataset / multiclass dataset\n",
    "3. Iterate through dataframe patient ids:\n",
    "    - Piece together image code (PA****[P/E]N****.png)\n",
    "    - Take rejection grade\n",
    "    - Locate image file in transplant folder in transplant ecg folder\n",
    "    - Assign label based on current classification task\n",
    "    - Copy ecg into label folders (Start with multiclass)\n",
    "    "
   ]
  },
  {
   "cell_type": "markdown",
   "id": "13210745",
   "metadata": {},
   "source": [
    "## Import"
   ]
  },
  {
   "cell_type": "markdown",
   "id": "148dc057",
   "metadata": {},
   "source": []
  },
  {
   "cell_type": "code",
   "execution_count": null,
   "id": "c0bfc657",
   "metadata": {},
   "outputs": [],
   "source": [
    "import pandas as pd\n",
    "import os\n",
    "import shutil\n",
    "from PIL import Image\n",
    "import numpy as np\n",
    "import matplotlib.pyplot as plt\n",
    "from scipy.signal import find_peaks\n",
    "import skimage"
   ]
  },
  {
   "cell_type": "markdown",
   "id": "5f5bce13",
   "metadata": {},
   "source": [
    "## Data loading"
   ]
  },
  {
   "cell_type": "code",
   "execution_count": null,
   "id": "f499f4ad",
   "metadata": {},
   "outputs": [],
   "source": [
    "FileName = '//data//Vandenberg-Lab//Internal//Rui//NIDACT2_ECG_reference .xlsx'\n",
    "ECG_folder = '//data//Vandenberg-Lab//Internal//Rui//NIDACT2 Transplant ECGs//original'\n",
    "print(FileName)\n",
    "mastersheet = pd.read_excel(FileName)"
   ]
  },
  {
   "cell_type": "code",
   "execution_count": null,
   "id": "34ae1214",
   "metadata": {},
   "outputs": [],
   "source": [
    "mastersheet.columns\n"
   ]
  },
  {
   "cell_type": "code",
   "execution_count": null,
   "id": "d36b12a3",
   "metadata": {},
   "outputs": [],
   "source": [
    "IDs_Labels = mastersheet.get([\"Patient n. \",\"Days post-transplant \",\"Overall grade \",\"Electronic/paper\"])\n",
    "print(IDs_Labels)"
   ]
  },
  {
   "cell_type": "code",
   "execution_count": null,
   "id": "7772d90a",
   "metadata": {},
   "outputs": [],
   "source": [
    "dir_name = \"Multiclass_HTx_Rejection_Dataset_1(AutoCropped)\"\n",
    "\n",
    "no_rejection_dir = \"//data//Vandenberg-Lab//Internal//Rui//NIDACT2 Transplant ECGs//\"+ dir_name + os.sep + \"no rejection\"\n",
    "mild_rejection_dir = \"//data//Vandenberg-Lab//Internal//Rui//NIDACT2 Transplant ECGs//\"+ dir_name + os.sep + \"mild rejection\"\n",
    "moderate_to_severe_rejection_dir = \"//data//Vandenberg-Lab//Internal//Rui//NIDACT2 Transplant ECGs//\"+ dir_name + os.sep + \"moderate-to-severe rejection\"\n",
    "unidentified_dir = \"//data//Vandenberg-Lab//Internal//Rui//NIDACT2 Transplant ECGs//\"+ dir_name + os.sep + \"unidentified\"\n"
   ]
  },
  {
   "cell_type": "code",
   "execution_count": null,
   "id": "c8fbc457",
   "metadata": {},
   "outputs": [],
   "source": [
    "# Make label dataset folders\n",
    "\n",
    "# os.mkdir(\"//data//Vandenberg-Lab//Internal//Rui//NIDACT2 Transplant ECGs//\"+ dir_name)\n",
    "\n",
    "# os.mkdir(no_rejection_dir)\n",
    "\n",
    "# os.mkdir(mild_rejection_dir)\n",
    "\n",
    "# os.mkdir(moderate_to_severe_rejection_dir)\n",
    "\n",
    "# os.mkdir(unidentified_dir)"
   ]
  },
  {
   "cell_type": "markdown",
   "id": "ef5441fc",
   "metadata": {},
   "source": [
    "## AUTO_CROPPING_FUNCTION"
   ]
  },
  {
   "cell_type": "code",
   "execution_count": null,
   "id": "0ae04544",
   "metadata": {},
   "outputs": [],
   "source": [
    "def AutoCropping(src,dst):\n",
    "\n",
    "    horizontal_grid_size = 27  # Assumption of number of major horizontal ticks/gridlines\n",
    "    grid_cut = 20 # Line number to perform crop/cut\n",
    "\n",
    "    originalImage = Image.open(src)\n",
    "    w, h = originalImage.size\n",
    "    # print('Original')\n",
    "    # plt.imshow(originalImage)\n",
    "    # plt.show()\n",
    "\n",
    "    try:\n",
    "        red, green, blue, alpha = originalImage.split()\n",
    "    except:\n",
    "        red, green, blue = originalImage.split()\n",
    "    \n",
    "    grey = originalImage.convert('L')\n",
    "\n",
    "    yllw = np.asarray(grey)-np.asarray(red)\n",
    "    prpl = np.asarray(grey)-np.asarray(green)\n",
    "    brwn = np.asarray(grey)-np.asarray(blue)\n",
    "\n",
    "    selection = prpl\n",
    "\n",
    "    # plt.imshow(Image.fromarray(selection), cmap='gray')\n",
    "    # plt.show()\n",
    "\n",
    "    proceed = False\n",
    "\n",
    "    #TDOD: incorporate block_reduce to bin image for cleaner gridline detection\n",
    "    # downsampled_image = skimage.measure.block_reduce(prpl, (2,2), np.sum)\n",
    "    # downsampled_image = (downsampled_image-np.min(downsampled_image))/(np.max(downsampled_image)-np.min(downsampled_image))\n",
    "    # plt.imshow(Image.fromarray(downsampled_image), cmap='gray')\n",
    "    # plt.show()\n",
    "\n",
    "    for threshold in np.arange(150,250,10): # np.arange(50,300,10): #\n",
    "        thresholdedImage =  np.where(selection < threshold, selection, 0.0)\n",
    "        \n",
    "        # try:\n",
    "        vert_sum = np.sum(thresholdedImage, axis=0)\n",
    "        horz_sum = np.sum(thresholdedImage[:,:200], axis=1)\n",
    "        # using height and expected number of gridlines to estimate distance between gridlines\n",
    "        vert_prominence_var = np.max(vert_sum)*0.2\n",
    "        horz_prominence_var = np.max(horz_sum)*0.2\n",
    "        vert_gridlines = find_peaks(vert_sum, prominence=vert_prominence_var, distance=(h/horizontal_grid_size)*0.9)#10000)#\n",
    "        horz_gridlines = find_peaks(horz_sum, prominence=horz_prominence_var, distance=(h/horizontal_grid_size)*0.9)#10000)#\n",
    "        # except:\n",
    "        #     continue\n",
    "\n",
    "        print(len(horz_gridlines[0]))\n",
    "\n",
    "        if (horizontal_grid_size-3) < len(horz_gridlines[0]) < (horizontal_grid_size+3):\n",
    "            proceed = True\n",
    "            break\n",
    "\n",
    "    if not(proceed):\n",
    "        print(\"Did not process sample: \" + src)\n",
    "        return src\n",
    "\n",
    "    # plt.plot(vert_sum)\n",
    "    # plt.plot(vert_gridlines[0], vert_sum[vert_gridlines[0]], 'or')\n",
    "    # plt.show()\n",
    "\n",
    "    # plt.plot(horz_sum)\n",
    "    # plt.plot(horz_gridlines[0], horz_sum[horz_gridlines[0]], 'or')\n",
    "    # plt.show()\n",
    "\n",
    "    cropImage = originalImage.crop((vert_gridlines[0][0],horz_gridlines[0][0],vert_gridlines[0][-1],horz_gridlines[0][grid_cut])) #13 for double rhytm strip\n",
    "    # plt.imshow(cropImage)\n",
    "    # plt.show()\n",
    "    cropImage.save(dst)"
   ]
  },
  {
   "cell_type": "markdown",
   "id": "62427ad9",
   "metadata": {},
   "source": [
    "## Rejection labels"
   ]
  },
  {
   "cell_type": "code",
   "execution_count": null,
   "id": "ea9f38fc",
   "metadata": {},
   "outputs": [],
   "source": [
    "# For loop: Loop through the dataframe and copy patient ecgs\n",
    "\n",
    "errorfilelist = []\n",
    "\n",
    "for idx in IDs_Labels.index: #np.arange(10): #\n",
    "    patientID = IDs_Labels.loc[idx][\"Patient n. \"]\n",
    "    DPT = IDs_Labels.loc[idx][\"Days post-transplant \"]\n",
    "    # (Days Post Transplant) \n",
    "    Electronic_paper = IDs_Labels.loc[idx][\"Electronic/paper\"]\n",
    "    RejectionGrade = IDs_Labels.loc[idx][\"Overall grade \"]\n",
    "\n",
    "    folder_name = \"PA\" + str(\"{:04d}\".format(patientID)) # {:0d} --> formats the number digits to always have 4 digits \n",
    "\n",
    "    image_name = folder_name + Electronic_paper + \"N\" + str(\"{:04d}\".format(DPT)) \n",
    "\n",
    "    print(folder_name + os.sep + image_name + \".png\") \n",
    "    print(RejectionGrade)\n",
    "\n",
    "\n",
    "# Locate the ECG image into folders depending on its rejection grades \n",
    "    if \"Grade 0, no rejection\" in RejectionGrade: \n",
    "        print (\"no rejection\")\n",
    "        src = ECG_folder + os.sep + folder_name + os.sep + image_name + \".png\"\n",
    "        dst = no_rejection_dir + os.sep + image_name + \".png\"\n",
    "\n",
    "    elif \"Grade 1A/1R, mild\" in RejectionGrade: \n",
    "        print(\"mild rejection\")\n",
    "        src = ECG_folder + os.sep + folder_name + os.sep + image_name + \".png\"\n",
    "        dst = mild_rejection_dir + os.sep + image_name + \".png\"\n",
    "\n",
    "    elif \"Grade 1A/1R, mild rejection\" in RejectionGrade: \n",
    "        print(\"mild rejection\")\n",
    "        src = ECG_folder + os.sep + folder_name + os.sep + image_name + \".png\"\n",
    "        dst = mild_rejection_dir + os.sep + image_name + \".png\"\n",
    "\n",
    "    elif \"Grade 3A/2R, moderate\" in RejectionGrade: \n",
    "        print (\"moderate-to-severe rejection\")\n",
    "        src = ECG_folder + os.sep + folder_name + os.sep + image_name + \".png\"\n",
    "        dst = moderate_to_severe_rejection_dir + os.sep + image_name + \".png\"\n",
    "\n",
    "    else: \n",
    "        print (\"unidentified\")\n",
    "        src = ECG_folder + os.sep + folder_name + os.sep + image_name + \".png\"\n",
    "        dst = unidentified_dir + os.sep + image_name + \".png\"\n",
    "\n",
    "    errorsample = AutoCropping(src,dst)\n",
    "    errorfilelist.append(errorsample)\n",
    "\n",
    "print(errorfilelist)"
   ]
  },
  {
   "cell_type": "markdown",
   "id": "78a8947c",
   "metadata": {},
   "source": [
    "## Image Resizing"
   ]
  },
  {
   "cell_type": "code",
   "execution_count": null,
   "id": "3d0b7a77",
   "metadata": {},
   "outputs": [],
   "source": [
    "# Define locations of input\n",
    "input_dir = \"//data//Vandenberg-Lab//Internal//Rui//NIDACT2 Transplant ECGs//Multiclass_HTx_Rejection_Dataset_1(AutoCropped)//\"\n",
    "output_dir = \"//data//Vandenberg-Lab//Internal//Rui//NIDACT2 Transplant ECGs//Multiclass_HTx_Rejection_Dataset_1(300_300)//\"\n",
    "\n",
    "try:\n",
    "    os.mkdir(output_dir)\n",
    "except:\n",
    "    pass\n",
    "\n",
    "# Input size of network\n",
    "net_input_size = 300\n",
    "\n",
    "# Use os.walk to cycle through a folder to grab file names and file paths\n",
    "\n",
    "folder_list = []\n",
    "\n",
    "# Loop through list of files for pre-processing\n",
    "for idx, [path, folder, file_list] in enumerate(os.walk(input_dir)):\n",
    "\n",
    "    if not folder_list:\n",
    "        folder_list = folder\n",
    "        continue\n",
    "\n",
    "    folder_name = folder_list[idx-1]\n",
    "    print(folder_name)\n",
    "\n",
    "    try:\n",
    "        os.mkdir((output_dir+'//'+folder_name))\n",
    "    except:\n",
    "        pass\n",
    "\n",
    "    for file_name in file_list:\n",
    "    \n",
    "        # Check to make sure the file is an image ('.png' extension)\n",
    "        if not(file_name.endswith('.png')):\n",
    "            continue\n",
    "\n",
    "        print(file_name)\n",
    "        originalImage = Image.open(input_dir + folder_name + '//' + file_name) # Open the file as an 'Image' object\n",
    "        plt.imshow(originalImage) # Plot the final image\n",
    "        # plt.show() # Show the plot\n",
    "        resizedImage = originalImage.resize((net_input_size,net_input_size)) # Resize the image using the resize  function\n",
    "        plt.imshow(resizedImage) # Plot the final image\n",
    "        # plt.show() # Show the plot\n",
    "        greyImage = resizedImage.convert('L') # Convert the image to greyscale with the convert function\n",
    "        plt.imshow(greyImage) # Plot the final image\n",
    "        # plt.show() # Show the plot\n",
    "        outImage = greyImage.convert('RGB') # Convert the image back into a 3-channel image with the convert function (required for network input)\n",
    "        outImage.save(output_dir + folder_name + '//' + file_name) # Save the final image\n",
    "        # plt.imshow(outImage) # Plot the final image\n",
    "        # plt.show() # Show the plot"
   ]
  }
 ],
 "metadata": {
  "kernelspec": {
   "display_name": "modeltraining",
   "language": "python",
   "name": "python3"
  },
  "language_info": {
   "codemirror_mode": {
    "name": "ipython",
    "version": 3
   },
   "file_extension": ".py",
   "mimetype": "text/x-python",
   "name": "python",
   "nbconvert_exporter": "python",
   "pygments_lexer": "ipython3",
   "version": "3.11.11"
  }
 },
 "nbformat": 4,
 "nbformat_minor": 5
}
