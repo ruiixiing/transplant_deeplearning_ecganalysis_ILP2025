{
 "cells": [
  {
   "cell_type": "markdown",
   "metadata": {},
   "source": [
    "# Dataset Splitting #"
   ]
  },
  {
   "cell_type": "markdown",
   "metadata": {},
   "source": [
    "Reads through a dataset folder and creates a set of train/val/test folders using the input labels as stratification\n",
    "- Binary classification \n",
    "- 5 Folds cross validation "
   ]
  },
  {
   "cell_type": "markdown",
   "metadata": {},
   "source": [
    "## Imports ##"
   ]
  },
  {
   "cell_type": "code",
   "execution_count": 1,
   "metadata": {},
   "outputs": [],
   "source": [
    "import os\n",
    "import shutil\n",
    "import numpy as np\n",
    "from sklearn.model_selection import KFold"
   ]
  },
  {
   "cell_type": "markdown",
   "metadata": {},
   "source": [
    "## Inputs ##"
   ]
  },
  {
   "cell_type": "code",
   "execution_count": 9,
   "metadata": {},
   "outputs": [],
   "source": [
    "original_dir = \"D://Rui//NIDACT2 Transplant ECGs//Multiclass_HTx_Rejection_Dataset_1(300_300)//Binary_0vs1-2R\"\n",
    "save_dir = original_dir + ' (5-Folds)'\n",
    "\n",
    "target_labels = ['0', \"1-2R\"]\n",
    "nClasses = len(target_labels)\n"
   ]
  },
  {
   "cell_type": "markdown",
   "metadata": {},
   "source": [
    "## Binary classification"
   ]
  },
  {
   "cell_type": "markdown",
   "metadata": {},
   "source": [
    "### Create New Split Folders (If needed)"
   ]
  },
  {
   "cell_type": "code",
   "execution_count": 9,
   "metadata": {},
   "outputs": [],
   "source": [
    "# os.mkdir(save_dir)\n",
    "\n",
    "train_path = save_dir + '//train//'\n",
    "os.mkdir(train_path)\n",
    "for class_name in target_labels:\n",
    "    os.mkdir(train_path + class_name)\n",
    "\n",
    "val_path = save_dir + '//val//'\n",
    "os.mkdir(val_path)\n",
    "for class_name in target_labels:\n",
    "    os.mkdir(val_path + class_name)\n",
    "\n",
    "test_path = save_dir + '//test//'\n",
    "os.mkdir(test_path)\n",
    "for class_name in target_labels:\n",
    "    os.mkdir(test_path + class_name)\n"
   ]
  },
  {
   "cell_type": "markdown",
   "metadata": {},
   "source": [
    "### Main Script ##"
   ]
  },
  {
   "cell_type": "code",
   "execution_count": 10,
   "metadata": {},
   "outputs": [],
   "source": [
    "# Splitting into 60:20:20 splits based on modulus 5 of sample index\n",
    "train_labels = []\n",
    "val_labels = []\n",
    "test_labels = []\n",
    "\n",
    "class_idx = 0\n",
    "for path, folder, files in os.walk(original_dir):\n",
    "    if not(files):\n",
    "        classes = target_labels\n",
    "        dataset_path = path\n",
    "        continue\n",
    "    \n",
    "    for file_idx, filename in enumerate(files):\n",
    "        original_filepath = dataset_path + '//' + classes[class_idx] + '//' + filename\n",
    "        label = np.zeros((len(classes)))\n",
    "        label[class_idx] = 1\n",
    "        match (file_idx % 5):\n",
    "            case 0|1|2:\n",
    "                train_labels.append(label)\n",
    "                new_path = train_path + classes[class_idx] + '//' + filename\n",
    "            case 3:\n",
    "                val_labels.append(label)\n",
    "                new_path = val_path + classes[class_idx]+ '//' + filename\n",
    "            case 4:\n",
    "                test_labels.append(label)\n",
    "                new_path = test_path + classes[class_idx] + '//' + filename\n",
    "\n",
    "        shutil.copyfile(original_filepath, new_path)\n",
    "    class_idx += 1\n",
    "    "
   ]
  },
  {
   "cell_type": "markdown",
   "metadata": {},
   "source": [
    "## 5 Folds validation "
   ]
  },
  {
   "cell_type": "code",
   "execution_count": 11,
   "metadata": {},
   "outputs": [],
   "source": [
    "os.mkdir(save_dir)\n",
    "\n",
    "fold_dir = []\n",
    "\n",
    "number_of_fold = [1, 2, 3, 4, 5] \n",
    "for fold_number in number_of_fold: \n",
    "    os.mkdir(save_dir + \"//\" + str(fold_number))\n",
    "    os.mkdir(save_dir + \"//\" + str(fold_number) + \"//\" + target_labels[0])\n",
    "    os.mkdir(save_dir + \"//\" + str(fold_number) + \"//\" + target_labels[1])\n",
    "    fold_dir.append (save_dir + \"//\" + str(fold_number))\n"
   ]
  },
  {
   "cell_type": "code",
   "execution_count": 12,
   "metadata": {},
   "outputs": [],
   "source": [
    "filepaths = []\n",
    "labels = []\n",
    "\n",
    "class_idx = 0\n",
    "for path, folder, files in os.walk(original_dir):\n",
    "    if not(files):\n",
    "        classes = target_labels\n",
    "        dataset_path = path\n",
    "        continue\n",
    "    \n",
    "    for file_idx, filename in enumerate(files):\n",
    "        original_filepath = dataset_path + '//' + classes[class_idx] + '//' + filename\n",
    "        label = np.zeros((len(classes)))\n",
    "        label[class_idx] = 1\n",
    "        match (file_idx % 5):\n",
    "            case 0:\n",
    "                labels.append(label)\n",
    "                new_path = fold_dir[0] + \"//\" + classes[class_idx] + '//' + filename\n",
    "            case 1:\n",
    "                labels.append(label)\n",
    "                new_path = fold_dir[1] + \"//\" + classes[class_idx] + '//' + filename\n",
    "            case 2:\n",
    "                labels.append(label)\n",
    "                new_path = fold_dir[2] + \"//\" + classes[class_idx] + '//' + filename\n",
    "            case 3:\n",
    "                labels.append(label)\n",
    "                new_path = fold_dir[3] + \"//\" + classes[class_idx]+ '//' + filename\n",
    "            case 4:\n",
    "                labels.append(label)\n",
    "                new_path = fold_dir[4] + \"//\" + classes[class_idx] + '//' + filename\n",
    "\n",
    "        shutil.copyfile(original_filepath, new_path)\n",
    "    class_idx += 1"
   ]
  }
 ],
 "metadata": {
  "kernelspec": {
   "display_name": "test",
   "language": "python",
   "name": "python3"
  },
  "language_info": {
   "codemirror_mode": {
    "name": "ipython",
    "version": 3
   },
   "file_extension": ".py",
   "mimetype": "text/x-python",
   "name": "python",
   "nbconvert_exporter": "python",
   "pygments_lexer": "ipython3",
   "version": "3.11.11"
  }
 },
 "nbformat": 4,
 "nbformat_minor": 2
}
